{
  "cells": [
    {
      "cell_type": "code",
      "execution_count": null,
      "metadata": {
        "id": "wRaV1JSvxh9j"
      },
      "outputs": [],
      "source": [
        "import hashlib"
      ]
    },
    {
      "cell_type": "code",
      "execution_count": null,
      "metadata": {
        "id": "CZuSHjEzvggC"
      },
      "outputs": [],
      "source": [
        "class block:\n",
        "  def __init__(self,data,prev_hash):\n",
        "\n",
        "    self.data=data\n",
        "    self.prev_hash=prev_hash\n",
        "    self.hash=self.calc_hash()\n",
        "\n",
        "  def calc_hash(self):\n",
        "    sha=hashlib.sha256()\n",
        "    sha.update(self.data.encode('utf-8'))\n",
        "    return sha.hexdigest()"
      ]
    },
    {
      "cell_type": "code",
      "execution_count": null,
      "metadata": {
        "id": "la2EMZr4ooSz"
      },
      "outputs": [],
      "source": [
        "class Blockchain:\n",
        "  def __init__(self):\n",
        "    self.chain=[self.create_genesis_block()]\n",
        "\n",
        "  def create_genesis_block(self):\n",
        "    return block(\"Transaction 1\",\"0\")\n",
        "\n",
        "  def add_block(self,data):\n",
        "    prev_block=self.chain[-1]\n",
        "    new_block=block(data,prev_block.hash)\n",
        "    self.chain.append(new_block)\n",
        "\n",
        "  def traverse_chain(self, start_hash):\n",
        "        for i, block in enumerate(self.chain):\n",
        "            if block.hash == start_hash and i < len(self.chain) - 1:\n",
        "                print(f\"Transaction process is taking place between Block {i} and Block {i+1}\")\n",
        "                self.chain[i].data, self.chain[i + 1].data = self.chain[i + 1].data, self.chain[i].data\n",
        "                return True\n",
        "        return False"
      ]
    },
    {
      "cell_type": "code",
      "execution_count": null,
      "metadata": {
        "id": "VBcRwRMUp36e"
      },
      "outputs": [],
      "source": [
        "blockchain=Blockchain()"
      ]
    },
    {
      "cell_type": "code",
      "execution_count": null,
      "metadata": {
        "id": "a9yhOkITqJVL"
      },
      "outputs": [],
      "source": [
        "blockchain.add_block('Transaction 2')\n",
        "blockchain.add_block('Transaction 3')\n",
        "blockchain.add_block('Transaction 4')\n",
        "blockchain.add_block('Transaction 5')\n",
        "blockchain.add_block('Transaction 6')"
      ]
    },
    {
      "cell_type": "code",
      "execution_count": null,
      "metadata": {
        "colab": {
          "base_uri": "https://localhost:8080/"
        },
        "id": "5ct_2Hve3oSq",
        "outputId": "96dcea4a-bb88-491f-fdd0-4168af786080"
      },
      "outputs": [
        {
          "output_type": "stream",
          "name": "stdout",
          "text": [
            "Original Blockchain:\n",
            "Data: Transaction 1\n",
            "Previous hash: 0\n",
            "hash: dff3b30655dc240deca00ed22fae68fdf8cf465bbe99bb2b2e24259cc1daac3a\n",
            "\n",
            "Data: Transaction 2\n",
            "Previous hash: dff3b30655dc240deca00ed22fae68fdf8cf465bbe99bb2b2e24259cc1daac3a\n",
            "hash: 4ae0e48b754a046b0f08e50e91708ddff4bac4daee30b786dbd67c30d8e00df8\n",
            "\n",
            "Data: Transaction 3\n",
            "Previous hash: 4ae0e48b754a046b0f08e50e91708ddff4bac4daee30b786dbd67c30d8e00df8\n",
            "hash: 2b8fd91deadf550d81682717104df059adc0addd006a0c7b99297e88769b30e5\n",
            "\n",
            "Data: Transaction 4\n",
            "Previous hash: 2b8fd91deadf550d81682717104df059adc0addd006a0c7b99297e88769b30e5\n",
            "hash: b99ca09efe93055ad86acb5bfc964e16393d8e4672c3a4c5fa08ffabc85065b3\n",
            "\n",
            "Data: Transaction 5\n",
            "Previous hash: b99ca09efe93055ad86acb5bfc964e16393d8e4672c3a4c5fa08ffabc85065b3\n",
            "hash: 40d1474d042b66b26df83eae197368b93d84d8c960d39aec68573796078114a4\n",
            "\n",
            "Data: Transaction 6\n",
            "Previous hash: 40d1474d042b66b26df83eae197368b93d84d8c960d39aec68573796078114a4\n",
            "hash: 42077621c2deb1cc863294dfcea7a3e3c781848a4f7d5b7820f7b10809354ee7\n",
            "\n"
          ]
        }
      ],
      "source": [
        "print('Original Blockchain:')\n",
        "for block in blockchain.chain:\n",
        "  print('Data:',block.data)\n",
        "  print('Previous hash:',block.prev_hash)\n",
        "  print('hash:',block.hash)\n",
        "  print()"
      ]
    },
    {
      "cell_type": "code",
      "execution_count": null,
      "metadata": {
        "id": "YdEbna8Y6KDe",
        "colab": {
          "base_uri": "https://localhost:8080/"
        },
        "outputId": "995ece1e-f574-4ccc-d603-81b6149eb0e6"
      },
      "outputs": [
        {
          "output_type": "stream",
          "name": "stdout",
          "text": [
            "Transaction process is taking place between Block 2 and Block 3\n"
          ]
        }
      ],
      "source": [
        "traversal_result = blockchain.traverse_chain(blockchain.chain[2].hash)"
      ]
    },
    {
      "cell_type": "code",
      "execution_count": null,
      "metadata": {
        "colab": {
          "base_uri": "https://localhost:8080/"
        },
        "id": "oggIkEvo6KoG",
        "outputId": "8aa59da8-4f78-4814-bf72-ed50ebdb3e27"
      },
      "outputs": [
        {
          "output_type": "stream",
          "name": "stdout",
          "text": [
            "\n",
            "Modified Blockchain after traversal:\n",
            "Block 0:\n",
            "Data: Transaction 1\n",
            "Previous hash: 0\n",
            "Hash: dff3b30655dc240deca00ed22fae68fdf8cf465bbe99bb2b2e24259cc1daac3a\n",
            "\n",
            "Block 1:\n",
            "Data: Transaction 2\n",
            "Previous hash: dff3b30655dc240deca00ed22fae68fdf8cf465bbe99bb2b2e24259cc1daac3a\n",
            "Hash: 4ae0e48b754a046b0f08e50e91708ddff4bac4daee30b786dbd67c30d8e00df8\n",
            "\n",
            "Block 2:\n",
            "Data: Transaction 4\n",
            "Previous hash: 4ae0e48b754a046b0f08e50e91708ddff4bac4daee30b786dbd67c30d8e00df8\n",
            "Hash: 2b8fd91deadf550d81682717104df059adc0addd006a0c7b99297e88769b30e5\n",
            "\n",
            "Block 3:\n",
            "Data: Transaction 3\n",
            "Previous hash: 2b8fd91deadf550d81682717104df059adc0addd006a0c7b99297e88769b30e5\n",
            "Hash: b99ca09efe93055ad86acb5bfc964e16393d8e4672c3a4c5fa08ffabc85065b3\n",
            "\n",
            "Block 4:\n",
            "Data: Transaction 5\n",
            "Previous hash: b99ca09efe93055ad86acb5bfc964e16393d8e4672c3a4c5fa08ffabc85065b3\n",
            "Hash: 40d1474d042b66b26df83eae197368b93d84d8c960d39aec68573796078114a4\n",
            "\n",
            "Block 5:\n",
            "Data: Transaction 6\n",
            "Previous hash: 40d1474d042b66b26df83eae197368b93d84d8c960d39aec68573796078114a4\n",
            "Hash: 42077621c2deb1cc863294dfcea7a3e3c781848a4f7d5b7820f7b10809354ee7\n",
            "\n"
          ]
        }
      ],
      "source": [
        "if traversal_result:\n",
        "    print('\\nModified Blockchain after traversal:')\n",
        "    for i, block in enumerate(blockchain.chain):\n",
        "        print(f'Block {i}:')\n",
        "        print('Data:', block.data)\n",
        "        print('Previous hash:', block.prev_hash)\n",
        "        print('Hash:', block.hash)\n",
        "        print()\n",
        "else:\n",
        "    print(\"Traversal unsuccessful. The specified block hash was not found.\")"
      ]
    }
  ],
  "metadata": {
    "colab": {
      "provenance": []
    },
    "kernelspec": {
      "display_name": "Python 3",
      "name": "python3"
    },
    "language_info": {
      "name": "python"
    }
  },
  "nbformat": 4,
  "nbformat_minor": 0
}